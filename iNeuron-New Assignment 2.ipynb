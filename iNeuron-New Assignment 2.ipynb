{
 "cells": [
  {
   "cell_type": "raw",
   "metadata": {},
   "source": [
    "1. Create the below pattern using nested for loop in Python.\n",
    "*\n",
    "** \n",
    "*** \n",
    "**** \n",
    "***** \n",
    "**** \n",
    "*** \n",
    "**\n",
    "*\n"
   ]
  },
  {
   "cell_type": "code",
   "execution_count": 1,
   "metadata": {},
   "outputs": [
    {
     "name": "stdout",
     "output_type": "stream",
     "text": [
      "*\n",
      "**\n",
      "***\n",
      "****\n",
      "*****\n",
      "****\n",
      "***\n",
      "**\n",
      "*\n"
     ]
    }
   ],
   "source": [
    "for i in range(1,6):\n",
    "    print(\"*\"*i)\n",
    "    if i==5:\n",
    "        for i in range(4,0,-1):\n",
    "            print(\"*\"*i)"
   ]
  },
  {
   "cell_type": "code",
   "execution_count": 2,
   "metadata": {},
   "outputs": [
    {
     "name": "stdout",
     "output_type": "stream",
     "text": [
      "*\n",
      "**\n",
      "***\n",
      "****\n",
      "*****\n",
      "****\n",
      "***\n",
      "**\n",
      "*\n"
     ]
    }
   ],
   "source": [
    "# Other way of doing the above code\n",
    "\n",
    "for i in range(1,6):\n",
    "    print(\"*\"*i)\n",
    "for i in range(4,0,-1):\n",
    "    print(\"*\"*i)"
   ]
  },
  {
   "cell_type": "markdown",
   "metadata": {},
   "source": [
    "---"
   ]
  },
  {
   "cell_type": "markdown",
   "metadata": {},
   "source": [
    "2. Write a Python program to reverse a word after accepting the input from the user.\n",
    "Sample Output:\n",
    "Input word: ineuron Output: norueni"
   ]
  },
  {
   "cell_type": "code",
   "execution_count": 26,
   "metadata": {},
   "outputs": [
    {
     "name": "stdout",
     "output_type": "stream",
     "text": [
      "Enter Input: iNeuron\n",
      "norueNi"
     ]
    }
   ],
   "source": [
    "str_input=input(\"Enter Input: \")\n",
    "k=len(str_input)\n",
    "\n",
    "for i in range((k-1),-1,-1):\n",
    "    j=str_input[i]\n",
    "    print(j,end=\"\")\n",
    "\n"
   ]
  },
  {
   "cell_type": "code",
   "execution_count": 28,
   "metadata": {},
   "outputs": [
    {
     "name": "stdout",
     "output_type": "stream",
     "text": [
      "Enter Input: iNeuron\n",
      "norueNi\n"
     ]
    }
   ],
   "source": [
    "#Other way of doing the above problem\n",
    "\n",
    "str_input=input(\"Enter Input: \")\n",
    "print(str_input[::-1])"
   ]
  },
  {
   "cell_type": "code",
   "execution_count": null,
   "metadata": {},
   "outputs": [],
   "source": []
  }
 ],
 "metadata": {
  "kernelspec": {
   "display_name": "Python 3",
   "language": "python",
   "name": "python3"
  }
 },
 "nbformat": 4,
 "nbformat_minor": 2
}
